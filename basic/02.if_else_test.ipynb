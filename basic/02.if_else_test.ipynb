{
 "cells": [
  {
   "cell_type": "code",
   "id": "initial_id",
   "metadata": {
    "collapsed": true,
    "ExecuteTime": {
     "end_time": "2024-09-25T01:06:21.146366Z",
     "start_time": "2024-09-25T01:06:21.143757Z"
    }
   },
   "source": "temperature = 70",
   "outputs": [],
   "execution_count": 7
  },
  {
   "metadata": {
    "ExecuteTime": {
     "end_time": "2024-09-25T01:06:22.722939Z",
     "start_time": "2024-09-25T01:06:22.718938Z"
    }
   },
   "cell_type": "code",
   "source": [
    "if temperature < 35:\n",
    "    print(\"cold\")\n",
    "elif temperature < 65:\n",
    "    print(\"hot\")\n",
    "else:\n",
    "    print(\"burning\")"
   ],
   "id": "7f5e99371f0c1c37",
   "outputs": [
    {
     "name": "stdout",
     "output_type": "stream",
     "text": [
      "burning\n"
     ]
    }
   ],
   "execution_count": 8
  }
 ],
 "metadata": {
  "kernelspec": {
   "display_name": "Python 3",
   "language": "python",
   "name": "python3"
  },
  "language_info": {
   "codemirror_mode": {
    "name": "ipython",
    "version": 2
   },
   "file_extension": ".py",
   "mimetype": "text/x-python",
   "name": "python",
   "nbconvert_exporter": "python",
   "pygments_lexer": "ipython2",
   "version": "2.7.6"
  }
 },
 "nbformat": 4,
 "nbformat_minor": 5
}
